{
 "cells": [
  {
   "cell_type": "code",
   "execution_count": 1,
   "id": "78baef5f",
   "metadata": {},
   "outputs": [],
   "source": [
    "#Create a new Jupyter notebook called \"DataScienceEcosysyem\""
   ]
  },
  {
   "cell_type": "markdown",
   "id": "dc7062f2",
   "metadata": {},
   "source": [
    "# DataScienceEcosystem"
   ]
  },
  {
   "cell_type": "markdown",
   "id": "efd9611e",
   "metadata": {},
   "source": [
    "In this notebook, Data Science Tools and Ecosystem are summarized"
   ]
  },
  {
   "cell_type": "markdown",
   "id": "63a64878",
   "metadata": {},
   "source": [
    "--Objectives--\n",
    "- List popular languages for Data Science\n",
    "- List some commonly used tools by Data Scientists\n",
    "- List some of the Data Science tools\n",
    "- Examples of arithmetic expressions\n",
    "- coding to evaluate arithmetic expressions"
   ]
  },
  {
   "cell_type": "markdown",
   "id": "24f9e5e4",
   "metadata": {},
   "source": [
    "Some of the popular languages that Data Scientists use are -\n",
    "\n",
    "1. Python\n",
    "2. R\n",
    "3. SQL\n",
    "4. Julia"
   ]
  },
  {
   "cell_type": "markdown",
   "id": "c66fc9cb",
   "metadata": {},
   "source": [
    "Some of the commonly used libraries used by Data Scientits include\n",
    "\n",
    "1. Pandas\n",
    "2. Numpy\n",
    "3. Matplotlib\n",
    "4. Scipy"
   ]
  },
  {
   "cell_type": "markdown",
   "id": "2029f53f",
   "metadata": {},
   "source": [
    "|Data Science Tools|\n",
    "|------------------|\n",
    "|Jupyter Notebook|\n",
    "|R Studio|\n",
    "|VS Code|\n",
    "|Google Colab|"
   ]
  },
  {
   "cell_type": "markdown",
   "id": "3ac4d963",
   "metadata": {},
   "source": [
    "Below are a few examples of evaluating arithmetic expressions in Python\n",
    "\n",
    "- 4+7\n",
    "- 6-3\n",
    "- 5*8\n",
    "- 10/2\n",
    "- (3+6)*2"
   ]
  },
  {
   "cell_type": "code",
   "execution_count": 5,
   "id": "c5a1b54c",
   "metadata": {},
   "outputs": [
    {
     "data": {
      "text/plain": [
       "17"
      ]
     },
     "execution_count": 5,
     "metadata": {},
     "output_type": "execute_result"
    }
   ],
   "source": [
    "# This is a simple arithmetic expression to multiply then add integers\n",
    "\n",
    "(3*4)+5"
   ]
  },
  {
   "cell_type": "code",
   "execution_count": 6,
   "id": "1a51f24f",
   "metadata": {},
   "outputs": [
    {
     "data": {
      "text/plain": [
       "3.3333333333333335"
      ]
     },
     "execution_count": 6,
     "metadata": {},
     "output_type": "execute_result"
    }
   ],
   "source": [
    "# This will convert 200 minutes into hours by dividing by 60\n",
    "\n",
    "200/60"
   ]
  },
  {
   "cell_type": "markdown",
   "id": "98e1d6dd",
   "metadata": {},
   "source": [
    "## Author\n",
    "Nagaraj"
   ]
  },
  {
   "cell_type": "code",
   "execution_count": null,
   "id": "683586b1",
   "metadata": {},
   "outputs": [],
   "source": []
  }
 ],
 "metadata": {
  "kernelspec": {
   "display_name": "Python 3 (ipykernel)",
   "language": "python",
   "name": "python3"
  },
  "language_info": {
   "codemirror_mode": {
    "name": "ipython",
    "version": 3
   },
   "file_extension": ".py",
   "mimetype": "text/x-python",
   "name": "python",
   "nbconvert_exporter": "python",
   "pygments_lexer": "ipython3",
   "version": "3.11.5"
  }
 },
 "nbformat": 4,
 "nbformat_minor": 5
}
